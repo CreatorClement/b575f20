{
  "nbformat": 4,
  "nbformat_minor": 0,
  "metadata": {
    "colab": {
      "name": "project_group_7.ipynb",
      "provenance": [],
      "collapsed_sections": [],
      "include_colab_link": true
    },
    "kernelspec": {
      "name": "python3",
      "display_name": "Python 3"
    }
  },
  "cells": [
    {
      "cell_type": "markdown",
      "metadata": {
        "id": "view-in-github",
        "colab_type": "text"
      },
      "source": [
        "<a href=\"https://colab.research.google.com/github/CreatorClement/b575f20/blob/master/project_group_7.ipynb\" target=\"_parent\"><img src=\"https://colab.research.google.com/assets/colab-badge.svg\" alt=\"Open In Colab\"/></a>"
      ]
    },
    {
      "cell_type": "markdown",
      "metadata": {
        "id": "wfq9kMx4EwR7"
      },
      "source": [
        "Group Homework - Project2 - Drug annotation of 23andme report\n",
        "\n",
        "Group 7 - Tasmine Clement, Charles Zhang, Shengchao Zhao, Julia Rosander\n",
        "\n",
        "Due Date: Dec 1, 2020"
      ]
    },
    {
      "cell_type": "markdown",
      "metadata": {
        "id": "OxmlukqFWVRT"
      },
      "source": [
        "<b>Tasmine Clement Answers</b>\n",
        "\n",
        "*What was your biggest challenge in this project? (regarding writing code and not only)*\n",
        "\n",
        "The biggest challenge was realizing that even if my code 'works' there may be unintended consequences of trying to fix an error with my corrections (like deleting more lines than necessary in this case).\n",
        "\n",
        "*What did you learn while working on this project? (regarding writing code and not only)*\n",
        "\n",
        "I learned that when working with unknown data, it is very valuable to take some time to explore the data to become familiar with how things are organized because small details can cause errors in code. \n",
        "\n",
        "*If you had more time on the project what other question(s) would you like to answer? (at least one question is required)*\n",
        "\n",
        "What disorders/diseases are most common for genetic variants with drug effects?\n",
        "\n",
        "I also wonder at what levels the author determined associations to be significant. "
      ]
    },
    {
      "cell_type": "markdown",
      "metadata": {
        "id": "X1EN5i3CWVdK"
      },
      "source": [
        "<b>Julia Rosander Answers </b>\n",
        "\n",
        "*What was your biggest challenge in this project? (regarding writing code and not only)*\n",
        "\n",
        "*What did you learn while working on this project? (regarding writing code and not only)*\n",
        "\n",
        "*If you had more time on the project what other question(s) would you like to answer? (at least one question is required)*"
      ]
    },
    {
      "cell_type": "markdown",
      "metadata": {
        "id": "4v_af-GAWVkw"
      },
      "source": [
        "<b>Charles Zhang Answers</b>\n",
        "\n",
        "*What was your biggest challenge in this project? (regarding writing code and not only)*\n",
        "\n",
        "Trying to get all the data accurately incorporated into a pandas dataframe when one line contains an error. It was already challenging when I knew that there was an error and had an idea of where it was, but I can see it being very difficult if it's an unknown dataset.\n",
        "\n",
        "*What did you learn while working on this project? (regarding writing code and not only)*\n",
        "\n",
        "Pandas dataframes are super useful and I would use it over other forms of data management like Excel or JMP when proficient.\n",
        "\n",
        "*If you had more time on the project what other question(s) would you like to answer? (at least one question is required)*\n",
        "\n",
        "In what ethnicities are the variants most commonly found in? How closely are the significant drug associations tied to ethnicity?"
      ]
    },
    {
      "cell_type": "markdown",
      "metadata": {
        "id": "coIdkTFOWGju"
      },
      "source": [
        "<b>Shengchao Zhao Answers</b>\n",
        "\n",
        "*What was your biggest challenge in this project? (regarding writing code and not only)*\n",
        "\n",
        "The biggest challenge was to catch up Zhang's progress as he was so fast in this assignment. The code part isn't hard at all for it's somehow done once in the homework.\n",
        "\n",
        "*What did you learn while working on this project? (regarding writing code and not only)*\n",
        "\n",
        "The errors that are detected by the editor, no matter how much there is, are the best errors; the errors that aren't detected by the editor, and the code doesn't work, are the fine errors; the errors that aren't detected by the editor, and the code works, are the worst errors.\n",
        "\n",
        "*If you had more time on the project what other question(s) would you like to answer? (at least one question is required)*\n",
        "\n",
        "If we can use deep learning to look for paterns."
      ]
    },
    {
      "cell_type": "code",
      "metadata": {
        "id": "Vko-kiZp-nK2"
      },
      "source": [
        "import pandas as pd"
      ],
      "execution_count": null,
      "outputs": []
    },
    {
      "cell_type": "markdown",
      "metadata": {
        "id": "NYRqxX5gE9Fd"
      },
      "source": [
        "First, to connect the variants to the information available in the PharmGKB  data we needed the var_drug_ann.tsv available in the annotations.zip archive under 'Variant and Clinical Annotations Data': \n",
        "\n",
        "https://www.pharmgkb.org/downloads"
      ]
    },
    {
      "cell_type": "code",
      "metadata": {
        "id": "yS3_UtL1D-66"
      },
      "source": [
        "var_drug_ann = pd.read_csv(\"var_drug_ann.tsv\", sep='\\t' )\n",
        "\n",
        "var_drug_ann.columns = ['Annotation ID','Variant','GENE_SYMBOL','DRUG_NAME','PMID','PHENOTYPE_CATEGORY','SIGNIFICANCE','NOTES','SENTENCE','StudyParameters','ALLELE_PharmGKB','Chromosome']\n",
        "\n",
        "#loads pharmgkb data into a pandas dataframe and renames the columns to that of the instructions\n",
        "#The error on line 8156 was corrected by balancing the quotation marks beginning and ending at \"The 15-year cumulative....allele (39% vs 19%)\" for the Notes. "
      ],
      "execution_count": null,
      "outputs": []
    },
    {
      "cell_type": "markdown",
      "metadata": {
        "id": "YzXLrqVaIScQ"
      },
      "source": [
        "Retreive the 23andme 23andme_v5_hg19_ref.txt.gz raw data file regarding variants from the following github account: https://github.com/arrogantrobot/23andme2vcf\n"
      ]
    },
    {
      "cell_type": "code",
      "metadata": {
        "id": "pT0PF4B6FxIt"
      },
      "source": [
        "database = pd.read_csv(\"23andme_v5_hg19_ref.txt\", sep='\\t', names=[\"CHR\", \"POS\", \"dbSNP_ID\", \"ALLELE_23andme\"])\n",
        "\n",
        "#loads 23andme data into a pandas dataframe from the tab separated file and gives them column headers (not found in file)"
      ],
      "execution_count": null,
      "outputs": []
    },
    {
      "cell_type": "code",
      "metadata": {
        "id": "k9MsVhmcGb-s"
      },
      "source": [
        "joined = database.merge(var_drug_ann, left_on='dbSNP_ID', right_on='Variant')\n",
        "\n",
        "#merges the 23andme and pharmgkb data using the column dbSNP_ID in the former and Variant in the latter"
      ],
      "execution_count": null,
      "outputs": []
    },
    {
      "cell_type": "code",
      "metadata": {
        "id": "2bggknDkNOKL"
      },
      "source": [
        "joined_filtered = joined.loc[joined['SIGNIFICANCE'].str.lower() == 'yes'].filter(items=['dbSNP_ID', 'GENE_SYMBOL', 'DRUG_NAME', 'NOTES', 'SENTENCE', 'ALLELE_PharmGKB', 'ALLELE_23andme'])\n",
        "\n",
        "#simultaneously filters rows based on if significance is yes (lowered, in case there is yes, Yes, YES, etc) and only includes the columns we were asked to keep."
      ],
      "execution_count": null,
      "outputs": []
    },
    {
      "cell_type": "code",
      "metadata": {
        "id": "ju6FxcNhOiAH"
      },
      "source": [
        "joined_filtered.to_csv(\"output.tsv\", sep=\"\\t\",index=False)\n",
        "\n",
        "#writes to file"
      ],
      "execution_count": null,
      "outputs": []
    }
  ]
}